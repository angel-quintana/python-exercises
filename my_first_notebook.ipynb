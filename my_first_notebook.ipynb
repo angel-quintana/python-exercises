{
 "cells": [
  {
   "cell_type": "code",
   "execution_count": 1,
   "id": "8288867e",
   "metadata": {},
   "outputs": [],
   "source": [
    "#shift return will execute and take you to a new cell\n",
    "x=1"
   ]
  },
  {
   "cell_type": "markdown",
   "id": "23633b2b",
   "metadata": {},
   "source": [
    "ESC + M #changes from coding cell to markdown cell"
   ]
  },
  {
   "cell_type": "code",
   "execution_count": 2,
   "id": "7aeb4c99",
   "metadata": {},
   "outputs": [],
   "source": [
    "#shift L shows line numbers"
   ]
  },
  {
   "cell_type": "code",
   "execution_count": 4,
   "id": "ca3f8f52",
   "metadata": {},
   "outputs": [],
   "source": [
    "#D twice deletes cell"
   ]
  },
  {
   "cell_type": "code",
   "execution_count": null,
   "id": "0d972a0d",
   "metadata": {},
   "outputs": [],
   "source": []
  }
 ],
 "metadata": {
  "kernelspec": {
   "display_name": "Python 3 (ipykernel)",
   "language": "python",
   "name": "python3"
  },
  "language_info": {
   "codemirror_mode": {
    "name": "ipython",
    "version": 3
   },
   "file_extension": ".py",
   "mimetype": "text/x-python",
   "name": "python",
   "nbconvert_exporter": "python",
   "pygments_lexer": "ipython3",
   "version": "3.11.5"
  }
 },
 "nbformat": 4,
 "nbformat_minor": 5
}
