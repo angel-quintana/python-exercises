{
 "cells": [
  {
   "cell_type": "markdown",
   "metadata": {},
   "source": [
    "Create a file named function_exercises.py for this exercise. After creating each function specified below, write the necessary code in order to test your function."
   ]
  },
  {
   "cell_type": "markdown",
   "metadata": {},
   "source": [
    "# exercise 1\n",
    "\n",
    "Define a function named is_two. It should accept one input and return True if the passed input is either the number or the string 2, False otherwise."
   ]
  },
  {
   "cell_type": "code",
   "execution_count": 9,
   "metadata": {},
   "outputs": [
    {
     "data": {
      "text/plain": [
       "False"
      ]
     },
     "execution_count": 9,
     "metadata": {},
     "output_type": "execute_result"
    }
   ],
   "source": [
    "def is_two(n):\n",
    "    if int(n) ==2 or str(n) == 2:\n",
    "        return True\n",
    "    else:\n",
    "        return False\n",
    "\n",
    "is_two('6')\n"
   ]
  },
  {
   "cell_type": "markdown",
   "metadata": {},
   "source": [
    "# exercise 2\n",
    "\n",
    "Define a function named is_vowel. It should return True if the passed string is a vowel, False otherwise."
   ]
  },
  {
   "cell_type": "code",
   "execution_count": 1,
   "metadata": {},
   "outputs": [],
   "source": [
    "def is_vowel(str1):\n",
    "    if type(str1) == str:\n",
    "        vowels = [\"a\",\"e\",\"i\",\"o\",\"u\"]    #,\"A\",\"E\",\"I\",\"O\",\"U\"]\n",
    "        return str1.lower() in vowels\n",
    "    else: return f\" {str1} is not a string\""
   ]
  },
  {
   "cell_type": "markdown",
   "metadata": {},
   "source": [
    "# exercise 3\n",
    "\n",
    "Define a function named is_consonant. It should return True if the passed string is a consonant, False otherwise. Use your is_vowel function to accomplish this."
   ]
  },
  {
   "cell_type": "code",
   "execution_count": null,
   "metadata": {},
   "outputs": [],
   "source": [
    "def is_consonant(str):\n",
    "    \n",
    "    vowels = [\"a\",\"e\",\"i\",\"o\",\"u\"]   \n",
    "    return str.lower() not in vowels"
   ]
  },
  {
   "cell_type": "markdown",
   "metadata": {},
   "source": [
    "# exercise 4\n",
    "\n",
    "Define a function that accepts a string that is a word. The function should capitalize the first letter of the word if the word starts with a consonant."
   ]
  },
  {
   "cell_type": "code",
   "execution_count": null,
   "metadata": {},
   "outputs": [],
   "source": [
    "\n",
    "def capitolize_consonant(str):\n",
    "    result = str[0]\n",
    "    vowels = [\"a\",\"e\",\"i\",\"o\",\"u\"]   \n",
    "    if result not in vowels:\n",
    "        return f'{result.upper()}{str[1:]}'\n",
    "    else:\n",
    "        return str\n"
   ]
  },
  {
   "cell_type": "markdown",
   "metadata": {},
   "source": [
    "# exercise 5\n",
    "\n",
    "Define a function named calculate_tip. It should accept a tip percentage (a number between 0 and 1) and the bill total, and return the amount to tip."
   ]
  },
  {
   "cell_type": "code",
   "execution_count": null,
   "metadata": {},
   "outputs": [],
   "source": [
    "\n",
    "def calculate_tip(tip_percent, bill):\n",
    "    tip = tip_percent * bill    \n",
    "    return tip\n"
   ]
  },
  {
   "cell_type": "markdown",
   "metadata": {},
   "source": [
    "# exercise 6\n",
    "\n",
    "Define a function named apply_discount. It should accept a original price, and a discount percentage, and return the price after the discount is applied."
   ]
  },
  {
   "cell_type": "code",
   "execution_count": null,
   "metadata": {},
   "outputs": [],
   "source": [
    "def apply_discount(og_price, discount_percent):\n",
    "    disc_price = og_price - (og_price * discount_percent)\n",
    "    return disc_price"
   ]
  },
  {
   "cell_type": "markdown",
   "metadata": {},
   "source": [
    "# exercise 7\n",
    "\n",
    "Define a function named handle_commas. It should accept a string that is a number that contains commas in it as input, and return a number as output."
   ]
  },
  {
   "cell_type": "code",
   "execution_count": null,
   "metadata": {},
   "outputs": [],
   "source": [
    "def handle_commas(input_number):\n",
    "    no_comma= input_number.replace(',','')\n",
    "    return no_comma\n"
   ]
  },
  {
   "cell_type": "markdown",
   "metadata": {},
   "source": [
    "# exercise 8\n",
    "\n",
    "Define a function named get_letter_grade. It should accept a number and return the letter grade associated with that number (A-F)."
   ]
  },
  {
   "cell_type": "code",
   "execution_count": null,
   "metadata": {},
   "outputs": [],
   "source": [
    "def get_letter_grade(grade_number):\n",
    "    \n",
    "    if grade_number > 90:\n",
    "        return \"A\"\n",
    "    elif grade_number > 80:\n",
    "        return \"B\"\n",
    "    elif grade_number > 70:\n",
    "        return \"C\"\n",
    "    elif grade_number > 60:\n",
    "        return \"D\"\n",
    "    else:\n",
    "        return \"F\"\n"
   ]
  },
  {
   "cell_type": "markdown",
   "metadata": {},
   "source": [
    "# exercise 9\n",
    "\n",
    "Define a function named remove_vowels that accepts a string and returns a string with all the vowels removed."
   ]
  },
  {
   "cell_type": "code",
   "execution_count": null,
   "metadata": {},
   "outputs": [],
   "source": [
    "def remove_vowels(str):\n",
    "    new_str= \"\"\n",
    "    vowels = [\"a\",\"e\",\"i\",\"o\",\"u\"]\n",
    "    for letter in str:\n",
    "       \n",
    "        if letter.lower() not in vowels:\n",
    "            new_str = new_str + letter\n",
    "            \n",
    "    return new_str  "
   ]
  },
  {
   "cell_type": "markdown",
   "metadata": {},
   "source": [
    "# exercise 10\n",
    "\n",
    "Define a function named normalize_name. \n",
    "It should accept a string and return a valid python identifier, that is:\n",
    "    \n",
    "    >anything that is not a valid python identifier should be removed\n",
    "    >leading and trailing whitespace should be removed\n",
    "    >everything should be lowercase\n",
    "    >spaces should be replaced with underscores\n",
    "    for example:\n",
    "        >Name will become name\n",
    "        >First Name will become first_name\n",
    "        >% Completed will become completed"
   ]
  },
  {
   "cell_type": "code",
   "execution_count": null,
   "metadata": {},
   "outputs": [],
   "source": [
    "def normalize_name(str1):\n",
    "    numbers = [(number) for number in range(0,10)]\n",
    "    alphabet = [chr(letter) for letter in range(ord('a'), ord('z') + 1)]\n",
    "    alpha_numeric= numbers + alphabet + ['_']  + [\" \"]\n",
    "    new_str = \"\"\n",
    "    \n",
    "    \n",
    "    for char in str1:\n",
    "        if char.lower() in alpha_numeric:\n",
    "            new_str= new_str + char #creating new string with valid alpha-numerics and spaces only\n",
    "            \n",
    "    new_str_trimmed= new_str.strip() #removing leading and following white space\n",
    "    new_str_scored= new_str_trimmed.replace(' ','_') #replacing spaces with underscores\n",
    "    new_str_lowered = new_str_scored.lower() #lowercasing the string\n",
    "    final_str = new_str_lowered\n",
    "    \n",
    "    return final_str"
   ]
  },
  {
   "cell_type": "markdown",
   "metadata": {},
   "source": [
    "# exercise 11\n",
    "\n",
    "Write a function named cumulative_sum that accepts a list of numbers and returns a list that is the cumulative sum of the numbers in the list.\n",
    "\n",
    "    >cumulative_sum([1, 1, 1]) returns [1, 2, 3]\n",
    "    >cumulative_sum([1, 2, 3, 4]) returns [1, 3, 6, 10]"
   ]
  }
 ],
 "metadata": {
  "kernelspec": {
   "display_name": "Python 3 (ipykernel)",
   "language": "python",
   "name": "python3"
  },
  "language_info": {
   "codemirror_mode": {
    "name": "ipython",
    "version": 3
   },
   "file_extension": ".py",
   "mimetype": "text/x-python",
   "name": "python",
   "nbconvert_exporter": "python",
   "pygments_lexer": "ipython3",
   "version": "3.11.5"
  }
 },
 "nbformat": 4,
 "nbformat_minor": 2
}
