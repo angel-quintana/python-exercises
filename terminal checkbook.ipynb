{
 "cells": [
  {
   "cell_type": "markdown",
   "id": "a086252e",
   "metadata": {},
   "source": [
    "# Welcome Screen"
   ]
  },
  {
   "cell_type": "markdown",
   "id": "3e57246f",
   "metadata": {},
   "source": [
    "# Ledger file"
   ]
  },
  {
   "cell_type": "markdown",
   "id": "2f9350f5",
   "metadata": {},
   "source": [
    "# "
   ]
  }
 ],
 "metadata": {
  "kernelspec": {
   "display_name": "Python 3 (ipykernel)",
   "language": "python",
   "name": "python3"
  },
  "language_info": {
   "codemirror_mode": {
    "name": "ipython",
    "version": 3
   },
   "file_extension": ".py",
   "mimetype": "text/x-python",
   "name": "python",
   "nbconvert_exporter": "python",
   "pygments_lexer": "ipython3",
   "version": "3.11.5"
  }
 },
 "nbformat": 4,
 "nbformat_minor": 5
}
